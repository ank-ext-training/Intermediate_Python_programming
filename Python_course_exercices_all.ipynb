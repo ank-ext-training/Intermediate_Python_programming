{
 "worksheets": [
  {
   "cells": [
    {
     "cell_type": "markdown",
     "metadata": {},
     "source": [
      "**Table of content:**\n",
      " - (V) iterators and list comprehensions\n",
      " - (V) itertools\n",
      " - (V) high-efficiency data containers\n",
      " - (V) map-reduce in python\n",
      " - (V) think functions\n",
      " - (V) python as type-based language. Type injections\n",
      " - (V) dunder utilities and how to use them \n",
      " - (V) wrappers: commonly used wrappers, user-defined wrappers\n",
      " - (V) Closures (and how to avoid creating it accidentally, aka: never use mutables as default values )\n",
      " - (V) code repetitivity index (http://clonedigger.sourceforge.net/)\n",
      " - (V) refactoring a bad piece of code \n",
      " - (V) python scopes: global, local, function layers and how to correct it (mutable wrapping)\n",
      " - (V) python lambdas (silent functions)\n",
      " - (V) basic python threading\n",
      " - (V) docstrings and Sphinx\n",
      " - (V) Gohlke [Link](http://www.lfd.uci.edu/~gohlke/pythonlibs/)\n",
      " - (V) Type function\n",
      " - (V) packaging of pure python modules, dependencies and installation of git repos via pip (aka how to share your code well)\n",
      " - (V) numpy and scipy: matrices and sparse matrices\n",
      " - (V) pyplot basics\n",
      " - (V) basics of git usage (within Pycharm)\n",
      " - (V) advanced indexing - lists and Numpy"
     ]
    },
    {
     "cell_type": "code",
     "metadata": {},
     "outputs": [],
     "input": [
      "%matplotlib inline"
     ],
     "language": "python",
     "prompt_number": 1
    },
    {
     "cell_type": "markdown",
     "metadata": {},
     "source": [
      "**Ex0: More than just code**"
     ]
    },
    {
     "cell_type": "code",
     "metadata": {},
     "outputs": [
      {
       "output_type": "stream",
       "stream": "stdout",
       "text": [
        "['__add__', '__class__', '__contains__', '__delattr__', '__delitem__', '__delslice__', '__doc__', '__eq__', '__format__', '__ge__', '__getattribute__', '__getitem__', '__getslice__', '__gt__', '__hash__', '__iadd__', '__imul__', '__init__', '__iter__', '__le__', '__len__', '__lt__', '__mul__', '__ne__', '__new__', '__reduce__', '__reduce_ex__', '__repr__', '__reversed__', '__rmul__', '__setattr__', '__setitem__', '__setslice__', '__sizeof__', '__str__', '__subclasshook__', 'append', 'count', 'extend', 'index', 'insert', 'pop', 'remove', 'reverse', 'sort']\n",
        "__add__ \tx.__add__(y) <==> x+y\n",
        "__class__ \tlist() -> new empty list\n",
        "list(iterable) -> new list initialized from iterable's items\n",
        "__contains__ \tx.__contains__(y) <==> y in x\n",
        "__delattr__ \tx.__delattr__('name') <==> del x.name\n",
        "__delitem__ \tx.__delitem__(y) <==> del x[y]\n",
        "__delslice__ \tx.__delslice__(i, j) <==> del x[i:j]\n",
        "           \n",
        "           Use of negative indices is not supported.\n",
        "__doc__ \tstr(object='') -> string\n",
        "\n",
        "Return a nice string representation of the object.\n",
        "If the argument is a string, the return value is the same object.\n",
        "__eq__ \tx.__eq__(y) <==> x==y\n",
        "__format__ \tdefault object formatter\n",
        "__ge__ \tx.__ge__(y) <==> x>=y\n",
        "__getattribute__ \tx.__getattribute__('name') <==> x.name\n",
        "__getitem__ \tx.__getitem__(y) <==> x[y]\n",
        "__getslice__ \tx.__getslice__(i, j) <==> x[i:j]\n",
        "           \n",
        "           Use of negative indices is not supported.\n",
        "__gt__ \tx.__gt__(y) <==> x>y\n",
        "__hash__ \tNone\n",
        "__iadd__ \tx.__iadd__(y) <==> x+=y\n",
        "__imul__ \tx.__imul__(y) <==> x*=y\n",
        "__init__ \tx.__init__(...) initializes x; see help(type(x)) for signature\n",
        "__iter__ \tx.__iter__() <==> iter(x)\n",
        "__le__ \tx.__le__(y) <==> x<=y\n",
        "__len__ \tx.__len__() <==> len(x)\n",
        "__lt__ \tx.__lt__(y) <==> x<y\n",
        "__mul__ \tx.__mul__(n) <==> x*n\n",
        "__ne__ \tx.__ne__(y) <==> x!=y\n",
        "__new__ \tT.__new__(S, ...) -> a new object with type S, a subtype of T\n",
        "__reduce__ \thelper for pickle\n",
        "__reduce_ex__ \thelper for pickle\n",
        "__repr__ \tx.__repr__() <==> repr(x)\n",
        "__reversed__ \tL.__reversed__() -- return a reverse iterator over the list\n",
        "__rmul__ \tx.__rmul__(n) <==> n*x\n",
        "__setattr__ \tx.__setattr__('name', value) <==> x.name = value\n",
        "__setitem__ \tx.__setitem__(i, y) <==> x[i]=y\n",
        "__setslice__ \tx.__setslice__(i, j, y) <==> x[i:j]=y\n",
        "           \n",
        "           Use  of negative indices is not supported.\n",
        "__sizeof__ \tL.__sizeof__() -- size of L in memory, in bytes\n",
        "__str__ \tx.__str__() <==> str(x)\n",
        "__subclasshook__ \tAbstract classes can override this to customize issubclass().\n",
        "\n",
        "This is invoked early on by abc.ABCMeta.__subclasscheck__().\n",
        "It should return True, False or NotImplemented.  If it returns\n",
        "NotImplemented, the normal algorithm is used.  Otherwise, it\n",
        "overrides the normal algorithm (and the outcome is cached).\n",
        "\n",
        "append \tL.append(object) -- append object to end\n",
        "count \tL.count(value) -> integer -- return number of occurrences of value\n",
        "extend \tL.extend(iterable) -- extend list by appending elements from the iterable\n",
        "index \tL.index(value, [start, [stop]]) -> integer -- return first index of value.\n",
        "Raises ValueError if the value is not present.\n",
        "insert \tL.insert(index, object) -- insert object before index\n",
        "pop \tL.pop([index]) -> item -- remove and return item at index (default last).\n",
        "Raises IndexError if list is empty or index is out of range.\n",
        "remove \tL.remove(value) -- remove first occurrence of value.\n",
        "Raises ValueError if the value is not present.\n",
        "reverse \tL.reverse() -- reverse *IN PLACE*\n",
        "sort \tL.sort(cmp=None, key=None, reverse=False) -- stable sort *IN PLACE*;\n",
        "cmp(x, y) -> -1, 0, 1\n"
       ]
      }
     ],
     "input": [
      "L = []\n",
      "\n",
      "print dir(L)\n",
      "\n",
      "for elt in dir(L):\n",
      "    print elt, '\\t', getattr(L, elt).__doc__"
     ],
     "language": "python",
     "prompt_number": 2
    },
    {
     "cell_type": "markdown",
     "metadata": {},
     "source": [
      "**Ex1: nested dicts**"
     ]
    },
    {
     "cell_type": "code",
     "metadata": {},
     "outputs": [
      {
       "output_type": "stream",
       "stream": "stdout",
       "text": [
        "inner function locals: \n",
        "{'cl': 'inner test', 'st2': 'secondary_function'}\n",
        "None\n",
        "locals: \n",
        "{'cl': 'test function',\n",
        " 'inner_test': <function inner_test at 0x000000000A216F98>,\n",
        " 'it': None,\n",
        " 'st': 'primary function'}\n",
        "None\n"
       ]
      },
      {
       "output_type": "pyout",
       "prompt_number": 3,
       "text": [
        "'test  function return'"
       ],
       "metadata": {}
      }
     ],
     "input": [
      "from pprint import pprint\n",
      "\n",
      "cl = 'module level'\n",
      "\n",
      "def test_function():\n",
      "    \n",
      "    def inner_test():\n",
      "        st2 = 'secondary_function'\n",
      "        cl = 'inner test'\n",
      "        print 'inner function locals: \\n', pprint(locals())\n",
      "    \n",
      "    st = 'primary function'\n",
      "    it = inner_test()\n",
      "    cl = 'test function'\n",
      "    print 'locals: \\n', pprint(locals())\n",
      "#     print 'globals:', pprint(globals())\n",
      "    return 'test  function return'\n",
      "\n",
      "test_function()"
     ],
     "language": "python",
     "prompt_number": 3
    },
    {
     "cell_type": "code",
     "metadata": {},
     "outputs": [
      {
       "output_type": "stream",
       "stream": "stdout",
       "text": [
        "True\n",
        "__main__\n",
        "numpy\n"
       ]
      }
     ],
     "input": [
      "gl = globals()\n",
      "print '__name__' in gl.keys()\n",
      "print gl['__name__']\n",
      "import numpy as np\n",
      "print np.__name__"
     ],
     "language": "python",
     "prompt_number": 4
    },
    {
     "cell_type": "markdown",
     "metadata": {},
     "source": [
      "**Ex2: First catch-22:**\n",
      "\n",
      "Tell what's wrong with the code below and correct it:"
     ]
    },
    {
     "cell_type": "code",
     "metadata": {},
     "outputs": [
      {
       "output_type": "stream",
       "stream": "stdout",
       "text": [
        "bar\n",
        "<type 'str'>\n",
        "<type 'str'>\n",
        "bar\n",
        "bar\n"
       ]
      },
      {
       "ename": "UnboundLocalError",
       "evalue": "local variable 'foo' referenced before assignment",
       "output_type": "pyerr",
       "traceback": [
        "\u001b[1;31m---------------------------------------------------------------------------\u001b[0m\n\u001b[1;31mUnboundLocalError\u001b[0m                         Traceback (most recent call last)",
        "\u001b[1;32m<ipython-input-5-e13997e80cf3>\u001b[0m in \u001b[0;36m<module>\u001b[1;34m()\u001b[0m\n\u001b[0;32m     17\u001b[0m     \u001b[0mnice_foo\u001b[0m\u001b[1;33m(\u001b[0m\u001b[1;33m)\u001b[0m\u001b[1;33m\u001b[0m\u001b[0m\n\u001b[0;32m     18\u001b[0m     \u001b[1;32mprint\u001b[0m \u001b[0mfoo\u001b[0m\u001b[1;33m\u001b[0m\u001b[0m\n\u001b[1;32m---> 19\u001b[1;33m     \u001b[0mfoo_mod_function\u001b[0m\u001b[1;33m(\u001b[0m\u001b[1;33m)\u001b[0m\u001b[1;33m\u001b[0m\u001b[0m\n\u001b[0m\u001b[0;32m     20\u001b[0m     \u001b[1;32mprint\u001b[0m \u001b[0mfoo\u001b[0m\u001b[1;33m\u001b[0m\u001b[0m\n",
        "\u001b[1;32m<ipython-input-5-e13997e80cf3>\u001b[0m in \u001b[0;36mfoo_mod_function\u001b[1;34m()\u001b[0m\n\u001b[0;32m      8\u001b[0m \u001b[1;33m\u001b[0m\u001b[0m\n\u001b[0;32m      9\u001b[0m \u001b[1;32mdef\u001b[0m \u001b[0mfoo_mod_function\u001b[0m\u001b[1;33m(\u001b[0m\u001b[1;33m)\u001b[0m\u001b[1;33m:\u001b[0m\u001b[1;33m\u001b[0m\u001b[0m\n\u001b[1;32m---> 10\u001b[1;33m     \u001b[0mfoo\u001b[0m \u001b[1;33m+=\u001b[0m \u001b[1;34m'-bar'\u001b[0m\u001b[1;33m\u001b[0m\u001b[0m\n\u001b[0m\u001b[0;32m     11\u001b[0m \u001b[1;33m\u001b[0m\u001b[0m\n\u001b[0;32m     12\u001b[0m \u001b[1;32mif\u001b[0m \u001b[0m__name__\u001b[0m \u001b[1;33m==\u001b[0m \u001b[1;34m'__main__'\u001b[0m\u001b[1;33m:\u001b[0m\u001b[1;33m\u001b[0m\u001b[0m\n",
        "\u001b[1;31mUnboundLocalError\u001b[0m: local variable 'foo' referenced before assignment"
       ]
      }
     ],
     "input": [
      "foo = 'bar'\n",
      "\n",
      "def ret_foo():\n",
      "    return foo\n",
      "\n",
      "def nice_foo():\n",
      "    foo = 'nice'\n",
      "\n",
      "def foo_mod_function():\n",
      "    foo += '-bar' \n",
      "\n",
      "if __name__ == '__main__':\n",
      "    print foo\n",
      "    print type(foo)\n",
      "    print foo.__class__\n",
      "    print ret_foo()\n",
      "    nice_foo()\n",
      "    print foo\n",
      "    foo_mod_function()\n",
      "    print foo"
     ],
     "language": "python",
     "prompt_number": 5
    },
    {
     "cell_type": "markdown",
     "metadata": {},
     "source": [
      "**Ex3: Duck Typing**\n",
      "Make all the modification necesseray for the code to run correctly"
     ]
    },
    {
     "cell_type": "code",
     "metadata": {},
     "outputs": [
      {
       "output_type": "stream",
       "stream": "stdout",
       "text": [
        "<type 'str'>\n",
        "<type 'str'>\n",
        "<type 'str'>\n",
        "<type 'unicode'>\n",
        "<type 'int'>\n",
        "<type 'float'>\n",
        "---------------\n",
        "True\n",
        "False\n",
        "False\n",
        "True\n",
        "False\n",
        "---------------\n",
        "True\n",
        "False\n",
        "False\n",
        "---------------\n",
        "ab\n",
        "3\n",
        "3.1\n"
       ]
      },
      {
       "ename": "TypeError",
       "evalue": "cannot concatenate 'str' and 'int' objects",
       "output_type": "pyerr",
       "traceback": [
        "\u001b[1;31m---------------------------------------------------------------------------\u001b[0m\n\u001b[1;31mTypeError\u001b[0m                                 Traceback (most recent call last)",
        "\u001b[1;32m<ipython-input-34-13b450b2a6e3>\u001b[0m in \u001b[0;36m<module>\u001b[1;34m()\u001b[0m\n\u001b[0;32m     21\u001b[0m     \u001b[1;32mprint\u001b[0m \u001b[1;36m1\u001b[0m \u001b[1;33m+\u001b[0m \u001b[1;36m2\u001b[0m\u001b[1;33m\u001b[0m\u001b[0m\n\u001b[0;32m     22\u001b[0m     \u001b[1;32mprint\u001b[0m \u001b[1;36m1\u001b[0m \u001b[1;33m+\u001b[0m \u001b[1;36m2.1\u001b[0m\u001b[1;33m\u001b[0m\u001b[0m\n\u001b[1;32m---> 23\u001b[1;33m     \u001b[1;32mprint\u001b[0m \u001b[1;34m'a'\u001b[0m \u001b[1;33m+\u001b[0m \u001b[1;36m1\u001b[0m  \u001b[1;31m# for Dar: they are supposed to perform an explicite conversion here\u001b[0m\u001b[1;33m\u001b[0m\u001b[0m\n\u001b[0m\u001b[0;32m     24\u001b[0m     \u001b[1;32mprint\u001b[0m \u001b[1;34m'---------------'\u001b[0m\u001b[1;33m\u001b[0m\u001b[0m\n\u001b[0;32m     25\u001b[0m     \u001b[1;32mprint\u001b[0m \u001b[1;34m'Py'\u001b[0m \u001b[1;33m*\u001b[0m \u001b[1;36m2\u001b[0m\u001b[1;33m\u001b[0m\u001b[0m\n",
        "\u001b[1;31mTypeError\u001b[0m: cannot concatenate 'str' and 'int' objects"
       ]
      }
     ],
     "input": [
      "if __name__ == '__main__':\n",
      "    print type('a')\n",
      "    print type(\"a\")\n",
      "    print type('acknowledge')\n",
      "    print type(u'acknowledge')\n",
      "    print type(3)\n",
      "    print type(3.1)\n",
      "    print type(foo2)\n",
      "    print '---------------'\n",
      "    print isinstance('a', str)\n",
      "    print isinstance(u'a', str)\n",
      "    print isinstance('a', bool)\n",
      "    print isinstance([], (tuple, list, set))\n",
      "    print issubclass(str, bool)\n",
      "    print '---------------'\n",
      "    print bool('a')\n",
      "    print bool('')\n",
      "    print bool([])\n",
      "    print '---------------'\n",
      "    print 'a' + 'b'\n",
      "    print 1 + 2\n",
      "    print 1 + 2.1\n",
      "    print 'a' + 1\n",
      "    print '---------------'\n",
      "    print 'Py' * 2\n",
      "    print 'Py'-'thon'\n",
      "    print [1,2,3]*2\n",
      "    print 1 / 2\n",
      "    print 1 % 2\n",
      "    print 1 / 2.\n",
      "    print 1 % 2.\n",
      "    assert(1 / 2 == 1 / 2.)\n",
      "    print 3.621 % 2.5\n",
      "    print 8.621 % 7.5\n",
      "    assert(3.621 % 2.5 == 8.621 % 7.5)"
     ],
     "language": "python",
     "prompt_number": 34
    },
    {
     "cell_type": "markdown",
     "metadata": {},
     "source": [
      "**Ex4: Catching/Trhowing the exceptions**\n",
      "\n",
      "Make the function below work in accordance with specification"
     ]
    },
    {
     "cell_type": "code",
     "metadata": {},
     "outputs": [
      {
       "output_type": "stream",
       "stream": "stdout",
       "text": [
        "2\n",
        "4.1\n",
        "1a\n"
       ]
      },
      {
       "ename": "TypeError",
       "evalue": "cannot concatenate 'str' and 'int' objects",
       "output_type": "pyerr",
       "traceback": [
        "\u001b[1;31m---------------------------------------------------------------------------\u001b[0m\n\u001b[1;31mTypeError\u001b[0m                                 Traceback (most recent call last)",
        "\u001b[1;32m<ipython-input-7-2a37fbc00fa0>\u001b[0m in \u001b[0;36m<module>\u001b[1;34m()\u001b[0m\n\u001b[0;32m     16\u001b[0m     \u001b[1;32mprint\u001b[0m \u001b[0madder\u001b[0m\u001b[1;33m(\u001b[0m\u001b[1;36m1\u001b[0m\u001b[1;33m,\u001b[0m \u001b[1;36m3.1\u001b[0m\u001b[1;33m)\u001b[0m\u001b[1;33m\u001b[0m\u001b[0m\n\u001b[0;32m     17\u001b[0m     \u001b[1;32mprint\u001b[0m \u001b[0madder\u001b[0m\u001b[1;33m(\u001b[0m\u001b[1;34m'1'\u001b[0m\u001b[1;33m,\u001b[0m \u001b[1;34m'a'\u001b[0m\u001b[1;33m)\u001b[0m\u001b[1;33m\u001b[0m\u001b[0m\n\u001b[1;32m---> 18\u001b[1;33m     \u001b[1;32mprint\u001b[0m \u001b[0madder\u001b[0m\u001b[1;33m(\u001b[0m\u001b[1;34m'a'\u001b[0m\u001b[1;33m,\u001b[0m \u001b[1;36m1\u001b[0m\u001b[1;33m)\u001b[0m\u001b[1;33m\u001b[0m\u001b[0m\n\u001b[0m\u001b[0;32m     19\u001b[0m     \u001b[1;32mprint\u001b[0m \u001b[0madder\u001b[0m\u001b[1;33m(\u001b[0m\u001b[1;36m2\u001b[0m\u001b[1;33m,\u001b[0m \u001b[1;34m'b'\u001b[0m\u001b[1;33m)\u001b[0m\u001b[1;33m\u001b[0m\u001b[0m\n",
        "\u001b[1;32m<ipython-input-7-2a37fbc00fa0>\u001b[0m in \u001b[0;36madder\u001b[1;34m(var1, var2)\u001b[0m\n\u001b[0;32m     10\u001b[0m     \u001b[0mIf\u001b[0m \u001b[0ma\u001b[0m \u001b[0mTypeError\u001b[0m \u001b[0mwas\u001b[0m \u001b[0mraised\u001b[0m\u001b[1;33m,\u001b[0m \u001b[0mit\u001b[0m \u001b[0mwill\u001b[0m \u001b[0mbe\u001b[0m \u001b[0mprinted\u001b[0m \u001b[0mbefore\u001b[0m \u001b[0mprinting\u001b[0m \u001b[0mthe\u001b[0m \u001b[0mvariables\u001b[0m\u001b[1;33m\u001b[0m\u001b[0m\n\u001b[0;32m     11\u001b[0m     \"\"\"\n\u001b[1;32m---> 12\u001b[1;33m     \u001b[1;32mreturn\u001b[0m \u001b[0mvar1\u001b[0m \u001b[1;33m+\u001b[0m \u001b[0mvar2\u001b[0m\u001b[1;33m\u001b[0m\u001b[0m\n\u001b[0m\u001b[0;32m     13\u001b[0m \u001b[1;33m\u001b[0m\u001b[0m\n\u001b[0;32m     14\u001b[0m \u001b[1;32mif\u001b[0m \u001b[0m__name__\u001b[0m \u001b[1;33m==\u001b[0m \u001b[1;34m'__main__'\u001b[0m\u001b[1;33m:\u001b[0m\u001b[1;33m\u001b[0m\u001b[0m\n",
        "\u001b[1;31mTypeError\u001b[0m: cannot concatenate 'str' and 'int' objects"
       ]
      }
     ],
     "input": [
      "def simple_adder(var1, var2):  #tester function: no need to modify\n",
      "    return var1 + var2\n",
      "\n",
      "def adder(var1, var2):\n",
      "    \"\"\"\n",
      "    Adds var1 and var2.\n",
      "    In case their types are incompatible, both variables are converted to strings and their sum returned.\n",
      "    The variables are always printed before being returned\n",
      "    If unrelated error is raised from within variables, it will be passed along and no matter\n",
      "    If a TypeError was raised, it will be printed before printing the variables\n",
      "    \"\"\"\n",
      "    return var1 + var2\n",
      "\n",
      "if __name__ == '__main__':\n",
      "    print adder(1, 1)\n",
      "    print adder(1, 3.1)\n",
      "    print adder('1', 'a')\n",
      "    print adder('a', 1)\n",
      "    print adder(2, 'b')"
     ],
     "language": "python",
     "prompt_number": 7
    },
    {
     "cell_type": "markdown",
     "metadata": {},
     "source": [
      "However, complexity comes at the expense of performance"
     ]
    },
    {
     "cell_type": "code",
     "metadata": {},
     "outputs": [
      {
       "output_type": "stream",
       "stream": "stdout",
       "text": [
        "100000000 loops, best of 3: 13 ns per loop\n",
        "10000000 loops, best of 3: 84.9 ns per loop"
       ]
      },
      {
       "output_type": "stream",
       "stream": "stdout",
       "text": [
        "\n",
        "10000000 loops, best of 3: 84.4 ns per loop"
       ]
      },
      {
       "output_type": "stream",
       "stream": "stdout",
       "text": [
        "\n"
       ]
      }
     ],
     "input": [
      "%timeit 1 + 1\n",
      "%timeit simple_adder(1, 1)\n",
      "%timeit adder(1, 1)"
     ],
     "language": "python",
     "prompt_number": 8
    },
    {
     "cell_type": "markdown",
     "metadata": {},
     "source": [
      "**Ex5: Mutability and dict keys**\n",
      "Correct all the errors"
     ]
    },
    {
     "cell_type": "code",
     "metadata": {},
     "outputs": [
      {
       "ename": "TypeError",
       "evalue": "descriptor 'get' requires a 'dict' object but received a 'str'",
       "output_type": "pyerr",
       "traceback": [
        "\u001b[1;31m---------------------------------------------------------------------------\u001b[0m\n\u001b[1;31mTypeError\u001b[0m                                 Traceback (most recent call last)",
        "\u001b[1;32m<ipython-input-10-e18767a33d71>\u001b[0m in \u001b[0;36m<module>\u001b[1;34m()\u001b[0m\n\u001b[0;32m     24\u001b[0m \u001b[1;33m\u001b[0m\u001b[0m\n\u001b[0;32m     25\u001b[0m \u001b[1;32mif\u001b[0m \u001b[0m__name__\u001b[0m \u001b[1;33m==\u001b[0m \u001b[1;34m\"__main__\"\u001b[0m\u001b[1;33m:\u001b[0m\u001b[1;33m\u001b[0m\u001b[0m\n\u001b[1;32m---> 26\u001b[1;33m     \u001b[1;32mprint\u001b[0m \u001b[1;34m\"Value : %s\"\u001b[0m \u001b[1;33m%\u001b[0m  \u001b[0mdict\u001b[0m\u001b[1;33m.\u001b[0m\u001b[0mget\u001b[0m\u001b[1;33m(\u001b[0m\u001b[1;34m'Age'\u001b[0m\u001b[1;33m)\u001b[0m\u001b[1;33m\u001b[0m\u001b[0m\n\u001b[0m\u001b[0;32m     27\u001b[0m     \u001b[1;32mprint\u001b[0m \u001b[1;34m\"Value : %s\"\u001b[0m \u001b[1;33m%\u001b[0m  \u001b[0mdict\u001b[0m\u001b[1;33m.\u001b[0m\u001b[0mget\u001b[0m\u001b[1;33m(\u001b[0m\u001b[1;34m'Sex'\u001b[0m\u001b[1;33m,\u001b[0m \u001b[1;34m\"Never\"\u001b[0m\u001b[1;33m)\u001b[0m\u001b[1;33m\u001b[0m\u001b[0m\n\u001b[0;32m     28\u001b[0m     \u001b[1;32mprint\u001b[0m \u001b[0msup_str\u001b[0m\u001b[1;33m,\u001b[0m \u001b[1;34m'\\t'\u001b[0m\u001b[1;33m,\u001b[0m \u001b[0mhex\u001b[0m\u001b[1;33m(\u001b[0m\u001b[0mid\u001b[0m\u001b[1;33m(\u001b[0m\u001b[0msup_str\u001b[0m\u001b[1;33m)\u001b[0m\u001b[1;33m)\u001b[0m\u001b[1;33m\u001b[0m\u001b[0m\n",
        "\u001b[1;31mTypeError\u001b[0m: descriptor 'get' requires a 'dict' object but received a 'str'"
       ]
      }
     ],
     "input": [
      "import hashlib\n",
      "from hashlib import md5\n",
      "\n",
      "dico = {'Name': 'Zara', 'Age': 27}\n",
      "sup_str = 'super'\n",
      "\n",
      "\n",
      "class crazy_string(object):\n",
      "    \n",
      "    def __init__(self, value):\n",
      "        self.value = value\n",
      "    \n",
      "    def __hash__(self):\n",
      "        m = hashlib.md5()\n",
      "        m.update(self.value)\n",
      "        return int('0x'+m.hexdigest(),0)\n",
      "    \n",
      "    def __eq__(self, other):\n",
      "        if type(other) == type(self):\n",
      "            return self.value == other.value\n",
      "        else:\n",
      "            return False\n",
      "    \n",
      "\n",
      "if __name__ == \"__main__\":\n",
      "    print \"Value : %s\" %  dict.get('Age')\n",
      "    print \"Value : %s\" %  dict.get('Sex', \"Never\")\n",
      "    print sup_str, '\\t', hex(id(sup_str))\n",
      "    sup_str += '!'\n",
      "    print sup_str, '\\t', hex(id(sup_str))\n",
      "    print '---------------------'\n",
      "    cstr = crazy_string('super')\n",
      "    dico[cstr] = 'sure?'\n",
      "    print dico\n",
      "    cstr.value = 'super!'\n",
      "    print dico\n",
      "    dico[cstr]"
     ],
     "language": "python",
     "prompt_number": 10
    },
    {
     "cell_type": "markdown",
     "metadata": {},
     "source": [
      "**Ex6: Mutability: pointers v.s. copies**\n",
      "\n",
      "Explain what happens below and correct the erroneous lines"
     ]
    },
    {
     "cell_type": "code",
     "metadata": {},
     "outputs": [
      {
       "output_type": "stream",
       "stream": "stdout",
       "text": [
        "['bar']\n",
        "['bar'] 0xa3bc908L\n",
        "---------------\n",
        "['nice'] 0xa3bc8c8L\n",
        "['bar'] 0xa3bc908L\n",
        "---------------\n",
        "['nice'] 0xa3bc908L\n",
        "---------------\n",
        "---------------\n",
        "0\n",
        "0\n",
        "1\n",
        "0\n",
        "0\n",
        "---------------\n",
        "0\n",
        "1\n",
        "1\n",
        "1\n",
        "2\n",
        "---------------\n",
        "['__call__', '__class__', '__closure__', '__code__', '__defaults__', '__delattr__', '__dict__', '__doc__', '__format__', '__get__', '__getattribute__', '__globals__', '__hash__', '__init__', '__module__', '__name__', '__new__', '__reduce__', '__reduce_ex__', '__repr__', '__setattr__', '__sizeof__', '__str__', '__subclasshook__', 'func_closure', 'func_code', 'func_defaults', 'func_dict', 'func_doc', 'func_globals', 'func_name']\n",
        "None\n",
        "([3],)\n",
        "None\n",
        "---------------\n",
        "3\n",
        "4\n"
       ]
      },
      {
       "ename": "AssertionError",
       "evalue": "",
       "output_type": "pyerr",
       "traceback": [
        "\u001b[1;31m---------------------------------------------------------------------------\u001b[0m\n\u001b[1;31mAssertionError\u001b[0m                            Traceback (most recent call last)",
        "\u001b[1;32m<ipython-input-11-ea443d211f4a>\u001b[0m in \u001b[0;36m<module>\u001b[1;34m()\u001b[0m\n\u001b[0;32m     62\u001b[0m     \u001b[1;32mprint\u001b[0m \u001b[0mfirst_closure\u001b[0m\u001b[1;33m.\u001b[0m\u001b[0m__closure__\u001b[0m\u001b[1;33m\u001b[0m\u001b[0m\n\u001b[0;32m     63\u001b[0m     \u001b[1;32mprint\u001b[0m \u001b[1;34m'---------------'\u001b[0m\u001b[1;33m\u001b[0m\u001b[0m\n\u001b[1;32m---> 64\u001b[1;33m     \u001b[1;32massert\u001b[0m\u001b[1;33m(\u001b[0m\u001b[0mfirst_closure\u001b[0m\u001b[1;33m(\u001b[0m\u001b[1;33m)\u001b[0m \u001b[1;33m==\u001b[0m \u001b[0mfirst_closure\u001b[0m\u001b[1;33m(\u001b[0m\u001b[1;33m)\u001b[0m\u001b[1;33m)\u001b[0m\u001b[1;33m\u001b[0m\u001b[0m\n\u001b[0m",
        "\u001b[1;31mAssertionError\u001b[0m: "
       ]
      }
     ],
     "input": [
      "global foo\n",
      "foo = ['bar']\n",
      "\n",
      "\n",
      "def ret_foo():\n",
      "    return foo\n",
      "\n",
      "\n",
      "def nice_foo():\n",
      "    foo = ['nice']\n",
      "    return foo\n",
      "\n",
      "\n",
      "def real_nice_foo():\n",
      "    foo[0] = 'nice'\n",
      "    \n",
      "    \n",
      "def foo_mod_function():\n",
      "    global foo\n",
      "    foo += ['bar'] \n",
      "\n",
      "    \n",
      "def simple_function(value = 0):\n",
      "    print value\n",
      "    value += 1\n",
      "    return value\n",
      "    \n",
      "    \n",
      "def first_closure(value = [0]):\n",
      "    print value[0]\n",
      "    value[0] += 1\n",
      "    return value[0]\n",
      "    \n",
      "    \n",
      "if __name__ == '__main__':\n",
      "    print foo \n",
      "    print ret_foo(), hex(id(foo))\n",
      "    print '---------------'\n",
      "    same_foo = nice_foo()\n",
      "    print same_foo, hex(id(same_foo))\n",
      "    print foo, hex(id(foo))\n",
      "    print '---------------'\n",
      "    real_nice_foo()\n",
      "    print foo, hex(id(foo))\n",
      "    print '---------------'\n",
      "    foo_mod_function()\n",
      "    print '---------------'\n",
      "    simple_function()\n",
      "    simple_function()\n",
      "    simple_function(1)\n",
      "    assert(simple_function() == simple_function())\n",
      "    print '---------------'\n",
      "    first_closure()\n",
      "    first_closure()\n",
      "    first_closure([1])\n",
      "    first_closure([1])\n",
      "    first_closure()\n",
      "    print '---------------' \n",
      "    print dir(first_closure)\n",
      "    print first_closure.func_closure\n",
      "    print first_closure.func_defaults\n",
      "    print first_closure.__closure__\n",
      "    print '---------------'\n",
      "    assert(first_closure() == first_closure())"
     ],
     "language": "python",
     "prompt_number": 11
    },
    {
     "cell_type": "markdown",
     "metadata": {},
     "source": [
      "** Ex7: Closures in Closures enclose things well**\n",
      "\n",
      "Get rid of errors and ensure that everything works as the docs say"
     ]
    },
    {
     "cell_type": "code",
     "metadata": {},
     "outputs": [
      {
       "output_type": "stream",
       "stream": "stdout",
       "text": [
        "['__call__', '__class__', '__closure__', '__code__', '__defaults__', '__delattr__', '__dict__', '__doc__', '__format__', '__get__', '__getattribute__', '__globals__', '__hash__', '__init__', '__module__', '__name__', '__new__', '__reduce__', '__reduce_ex__', '__repr__', '__setattr__', '__sizeof__', '__str__', '__subclasshook__', 'func_closure', 'func_code', 'func_defaults', 'func_dict', 'func_doc', 'func_globals', 'func_name']\n",
        "([],)\n",
        "[]\n",
        "[3]\n",
        "[3, 2]\n",
        "[3, 2, 'pretty']\n",
        "[3]\n",
        "[4]\n",
        "[7]\n"
       ]
      },
      {
       "ename": "TypeError",
       "evalue": "unsupported operand type(s) for +=: 'int' and 'str'",
       "output_type": "pyerr",
       "traceback": [
        "\u001b[1;31m---------------------------------------------------------------------------\u001b[0m\n\u001b[1;31mTypeError\u001b[0m                                 Traceback (most recent call last)",
        "\u001b[1;32m<ipython-input-18-03cf97d0591c>\u001b[0m in \u001b[0;36m<module>\u001b[1;34m()\u001b[0m\n\u001b[0;32m     26\u001b[0m     \u001b[0m_closure\u001b[0m\u001b[1;33m(\u001b[0m\u001b[1;36m1\u001b[0m\u001b[1;33m)\u001b[0m\u001b[1;33m\u001b[0m\u001b[0m\n\u001b[0;32m     27\u001b[0m     \u001b[0m_closure\u001b[0m\u001b[1;33m(\u001b[0m\u001b[1;36m3\u001b[0m\u001b[1;33m)\u001b[0m\u001b[1;33m\u001b[0m\u001b[0m\n\u001b[1;32m---> 28\u001b[1;33m     \u001b[0m_closure\u001b[0m\u001b[1;33m(\u001b[0m\u001b[1;34m'pretty'\u001b[0m\u001b[1;33m)\u001b[0m\u001b[1;33m\u001b[0m\u001b[0m\n\u001b[0m",
        "\u001b[1;32m<ipython-input-18-03cf97d0591c>\u001b[0m in \u001b[0;36minner_closure\u001b[1;34m(variable, memory)\u001b[0m\n\u001b[0;32m     11\u001b[0m         \"\"\"\n\u001b[0;32m     12\u001b[0m         \u001b[1;32mprint\u001b[0m \u001b[0mmemory\u001b[0m\u001b[1;33m\u001b[0m\u001b[0m\n\u001b[1;32m---> 13\u001b[1;33m         \u001b[0mmemory\u001b[0m\u001b[1;33m[\u001b[0m\u001b[1;36m0\u001b[0m\u001b[1;33m]\u001b[0m \u001b[1;33m+=\u001b[0m \u001b[0mvariable\u001b[0m\u001b[1;33m\u001b[0m\u001b[0m\n\u001b[0m\u001b[0;32m     14\u001b[0m \u001b[1;33m\u001b[0m\u001b[0m\n\u001b[0;32m     15\u001b[0m     \u001b[1;32mreturn\u001b[0m \u001b[0minner_closure\u001b[0m\u001b[1;33m\u001b[0m\u001b[0m\n",
        "\u001b[1;31mTypeError\u001b[0m: unsupported operand type(s) for +=: 'int' and 'str'"
       ]
      }
     ],
     "input": [
      "def closure(variable, memory = []):\n",
      "    print memory\n",
      "    memory += [variable]\n",
      "\n",
      "    \n",
      "def closure_generator(initial_memory):\n",
      "    \n",
      "    def inner_closure(variable, memory=[initial_memory]):\n",
      "        \"\"\"\n",
      "        Adds variavble to the memory. If types mismatch, cast everything to string\n",
      "        \"\"\"\n",
      "        print memory\n",
      "        memory[0] += variable\n",
      "    \n",
      "    return inner_closure\n",
      "\n",
      "\n",
      "if __name__ == \"__main__\":\n",
      "    print dir(closure)\n",
      "    print closure.func_defaults\n",
      "    closure(3)\n",
      "    closure(2)\n",
      "    closure('pretty')\n",
      "    closure('')\n",
      "    _closure = closure_generator(3)\n",
      "    _closure(1)\n",
      "    _closure(3)\n",
      "    _closure('pretty')"
     ],
     "language": "python",
     "prompt_number": 18
    },
    {
     "cell_type": "markdown",
     "metadata": {},
     "source": [
      "**Ex8: Wrappers wrap well**\n",
      "\n",
      "Modify the wrapper below so that it caches calls to a function\n",
      "\n",
      "you might need the following knowledge:\n",
      "    - ```*args``` give you a list of unnamed arguments passed to the function\n",
      "    - `**kwargs` give you a dict of named arguments passed to the function\n",
      "    - `kwargs.update(dict(zip(func.func_code.co_varnames, args)))` allows you to transform unnamed arguments into named ones\n",
      "    - tuples are only equal if their contents and order in which contents appear are identical\n",
      "    - you can enumerate the contents of a dict with a `name_of_dict.iteritems()` command\n",
      "    - you can sort in a simple maner with a `sorted(whatever you need to sort)`\n",
      "    - dicts only take as keys hashable items"
     ]
    },
    {
     "cell_type": "code",
     "metadata": {},
     "outputs": [
      {
       "output_type": "stream",
       "stream": "stdout",
       "text": [
        "The function I modify has been called 1 times(s).\n",
        "I'm a normal function.\n",
        "The function I modify has been called 2 times(s).\n",
        "I'm a normal function.\n",
        "The function I modify has been called 1 times(s).\n",
        "I'm a normal function.\n",
        "((1, 2, 3, 4),)\n",
        "(1, 2, 3, 4)\n",
        "{'a': 1, 'c': 3, 'b': 2}\n"
       ]
      }
     ],
     "input": [
      "# courtesy http://www.brianholdefehr.com/decorators-and-functional-python\n",
      "def logging_decorator(func):\n",
      "    def wrapper():\n",
      "        wrapper.count += 1\n",
      "        print \"The function I modify has been called {0} times(s).\".format(\n",
      "              wrapper.count)\n",
      "        func()\n",
      "    wrapper.count = 0\n",
      "    return wrapper\n",
      "\n",
      "\n",
      "def a_function():\n",
      "    print \"I'm a normal function.\"\n",
      "\n",
      "def print_args(*args):\n",
      "    print args\n",
      "    \n",
      "def print_kwargs(**kwargs):\n",
      "    print kwargs\n",
      "    \n",
      "if __name__ == \"__main__\":\n",
      "    modified_function = logging_decorator(a_function)\n",
      "\n",
      "    modified_function()\n",
      "    modified_function()\n",
      "    \n",
      "    @logging_decorator\n",
      "    def a_function():\n",
      "        print \"I'm a normal function.\"\n",
      "    a_function()\n",
      "    lst = 1, 2, 3, 4\n",
      "    print_args(lst)\n",
      "    print_args(*lst)\n",
      "    dct = {'a':1, 'b':2, 'c':3}\n",
      "#     print_kwargs(dct)\n",
      "    print_kwargs(**dct)"
     ],
     "language": "python",
     "prompt_number": 50
    },
    {
     "cell_type": "code",
     "metadata": {},
     "outputs": [
      {
       "output_type": "stream",
       "stream": "stdout",
       "text": [
        "1 1\n",
        "2\n",
        "a b\n",
        "ab\n",
        "ab\n"
       ]
      }
     ],
     "input": [
      "# Your solution here please\n",
      "\n",
      "def caching_decorator(func):\n",
      "    \n",
      "    def wrapper(*args, **kwargs):\n",
      "        pass \n",
      "    \n",
      "    return wrapper\n",
      "\n",
      "\n",
      "def a_function(arg1, arg2):\n",
      "    print arg1, arg2\n",
      "    return arg1 + arg2\n",
      "    \n",
      "if __name__ == \"__main__\":\n",
      "    modified_function = caching_decorator(a_function)\n",
      "\n",
      "    print modified_function(1, 1)\n",
      "    print modified_function('a', 'b')\n",
      "    print modified_function('a', 'b')"
     ],
     "language": "python",
     "prompt_number": 113
    },
    {
     "cell_type": "markdown",
     "metadata": {},
     "source": [
      "**Ex9: runtime class modification**\n",
      "\n",
      "Explain where the erorrs come from and correct them"
     ]
    },
    {
     "cell_type": "code",
     "metadata": {},
     "outputs": [
      {
       "output_type": "stream",
       "stream": "stdout",
       "text": [
        "inner payload\n",
        "----------------\n",
        "I am a little house in the prairie and I know 'John'\n",
        "I am a little house in the prairie and I know 'John'\n",
        "I am a <class '__main__.little_class_in_the_prairie'> and I know 'John'\n",
        "I am a <class '__main__.little_class_in_the_prairie'> and I know 'John'\n",
        "I am a little house in the prairie, I know 'John' and my content is 'inner payload'\n",
        "----------------\n",
        "inner payload\n",
        "<bound method little_class_in_the_prairie.__init__ of <__main__.little_class_in_the_prairie object at 0x000000000A3C27F0>>\n",
        "<bound method little_class_in_the_prairie.present_myself_2 of <__main__.little_class_in_the_prairie object at 0x000000000A3C27F0>>\n",
        "I am a little house in the prairie, I know 'John' and my content is 'inner payload'\n",
        "----------------\n",
        "True\n",
        "False\n",
        "True\n"
       ]
      },
      {
       "ename": "TypeError",
       "evalue": "outside_function() takes exactly 1 argument (0 given)",
       "output_type": "pyerr",
       "traceback": [
        "\u001b[1;31m---------------------------------------------------------------------------\u001b[0m\n\u001b[1;31mTypeError\u001b[0m                                 Traceback (most recent call last)",
        "\u001b[1;32m<ipython-input-19-61a861dc521d>\u001b[0m in \u001b[0;36m<module>\u001b[1;34m()\u001b[0m\n\u001b[0;32m     41\u001b[0m     \u001b[0msetattr\u001b[0m\u001b[1;33m(\u001b[0m\u001b[0mlcitp\u001b[0m\u001b[1;33m,\u001b[0m \u001b[1;34m'not_my_function'\u001b[0m\u001b[1;33m,\u001b[0m \u001b[0moutside_function\u001b[0m\u001b[1;33m)\u001b[0m\u001b[1;33m\u001b[0m\u001b[0m\n\u001b[0;32m     42\u001b[0m     \u001b[1;32mprint\u001b[0m \u001b[0mhasattr\u001b[0m\u001b[1;33m(\u001b[0m\u001b[0mlcitp\u001b[0m\u001b[1;33m,\u001b[0m \u001b[1;34m'not_my_function'\u001b[0m\u001b[1;33m)\u001b[0m\u001b[1;33m\u001b[0m\u001b[0m\n\u001b[1;32m---> 43\u001b[1;33m     \u001b[1;32mprint\u001b[0m \u001b[0mlcitp\u001b[0m\u001b[1;33m.\u001b[0m\u001b[0mnot_my_function\u001b[0m\u001b[1;33m(\u001b[0m\u001b[1;33m)\u001b[0m\u001b[1;33m\u001b[0m\u001b[0m\n\u001b[0m\u001b[0;32m     44\u001b[0m \u001b[1;33m\u001b[0m\u001b[0m\n",
        "\u001b[1;31mTypeError\u001b[0m: outside_function() takes exactly 1 argument (0 given)"
       ]
      }
     ],
     "input": [
      "class little_class_in_the_prairie(object):\n",
      "    \n",
      "    def __init__(self, payload):\n",
      "        self.payload = payload\n",
      "    \n",
      "    @staticmethod\n",
      "    def present_myself(asker='John'):\n",
      "        return \"I am a little house in the prairie and I know '%s'\"% asker\n",
      "    \n",
      "    @classmethod\n",
      "    def present_myself_1(cls, asker='John'):\n",
      "        return \"I am a %s and I know '%s'\"% (cls, asker)\n",
      "    \n",
      "    def present_myself_2(self, asker='John'):\n",
      "        return \"I am a little house in the prairie, I know '%s' and my content is '%s'\"% (asker, self.payload)\n",
      " \n",
      "    \n",
      "def outside_function(self):\n",
      "    return self.payload\n",
      "\n",
      "\n",
      "if __name__ == \"__main__\":\n",
      "    lcitp = little_class_in_the_prairie('inner payload')\n",
      "    print lcitp.payload\n",
      "    print '----------------'\n",
      "#     print little_class_in_the_prairie.payload\n",
      "    print little_class_in_the_prairie.present_myself()\n",
      "    print lcitp.present_myself()\n",
      "    print little_class_in_the_prairie.present_myself_1()\n",
      "    print lcitp.present_myself_1()\n",
      "#     print little_class_in_the_prairie.present_myself_2()\n",
      "    print lcitp.present_myself_2()\n",
      "    print '----------------'\n",
      "    print getattr(lcitp, 'payload')\n",
      "    print getattr(lcitp, '__init__')\n",
      "    print getattr(lcitp, 'present_myself_2')\n",
      "    print getattr(lcitp, 'present_myself_2')()  # < Yep, this is totally a Pythonic currying notation\n",
      "    print '----------------'\n",
      "    print hasattr(lcitp, 'present_myself_2')\n",
      "    print hasattr(lcitp, 'not_my_function')\n",
      "    setattr(lcitp, 'not_my_function', outside_function)\n",
      "    print hasattr(lcitp, 'not_my_function')\n",
      "    print lcitp.not_my_function()"
     ],
     "language": "python",
     "prompt_number": 19
    },
    {
     "cell_type": "markdown",
     "metadata": {},
     "source": [
      "**Ex10: Advanced wrappers**\n",
      "\n",
      "Modify the wrapper below so that it times the execution of the function it wraps. Make sure the wrapper preserves the name of the function and it's documentation."
     ]
    },
    {
     "cell_type": "code",
     "metadata": {},
     "outputs": [],
     "input": [
      "def args_as_ints(f):\n",
      "    def g(*args, **kwargs):\n",
      "        args = [int(x) for x in args]\n",
      "        kwargs = dict((k, int(v)) for k, v in kwargs.items())\n",
      "        return f(*args, **kwargs)\n",
      "    return g\n",
      "\n",
      "@args_as_ints\n",
      "def funny_function(x, y, z=3):\n",
      "    \"\"\"Computes x*y + 2*z\"\"\"\n",
      "    return x*y + 2*z"
     ],
     "language": "python",
     "prompt_number": 20
    },
    {
     "cell_type": "markdown",
     "metadata": {},
     "source": [
      "**Ex11: Pythonic map-reduce**"
     ]
    },
    {
     "cell_type": "code",
     "metadata": {},
     "outputs": [
      {
       "output_type": "stream",
       "stream": "stdout",
       "text": [
        "[2, 2, 2, 2]\n",
        "[2, 2, 2, 2]\n",
        "-----------------\n",
        "1000000 loops, best of 3: 509 ns per loop"
       ]
      },
      {
       "output_type": "stream",
       "stream": "stdout",
       "text": [
        "\n",
        "1000000 loops, best of 3: 672 ns per loop"
       ]
      },
      {
       "output_type": "stream",
       "stream": "stdout",
       "text": [
        "\n",
        "-----------------\n",
        "4\n",
        "4\n"
       ]
      }
     ],
     "input": [
      "def increment_list(lst):\n",
      "    newlist = []\n",
      "    for elt in lst:\n",
      "        newlist.append(elt+1)\n",
      "    return newlist\n",
      "\n",
      "def plus_one(integer):\n",
      "    return integer+1\n",
      "\n",
      "def sum_integers(integer1, integer2):\n",
      "    return integer1+integer2\n",
      "\n",
      "if __name__ == '__main__':\n",
      "    test_lst =  [1,1,1,1]\n",
      "\n",
      "    print increment_list(test_lst)\n",
      "    print map(plus_one, test_lst)\n",
      "    print '-----------------'\n",
      "    %timeit increment_list(test_lst)\n",
      "    %timeit map(plus_one, test_lst)\n",
      "    print '-----------------'\n",
      "    print sum(test_lst)\n",
      "    print reduce(sum_integers, test_lst)"
     ],
     "language": "python",
     "prompt_number": 22
    },
    {
     "cell_type": "markdown",
     "metadata": {},
     "source": [
      "**Ex12: Iterators, itertools and list comprehensions**\n",
      "\n",
      "For the first two blocks of code, explain what each line does, correct the eventual errors.\n",
      "For the third block of code, read the documentation for all the imported module and illustrate it with an example"
     ]
    },
    {
     "cell_type": "code",
     "metadata": {},
     "outputs": [
      {
       "output_type": "stream",
       "stream": "stdout",
       "text": [
        "--------------------\n",
        "begin\n",
        "before yield 0\n",
        "after yield"
       ]
      },
      {
       "output_type": "stream",
       "stream": "stdout",
       "text": [
        " 0\n",
        "before yield 1\n",
        "after yield"
       ]
      },
      {
       "output_type": "stream",
       "stream": "stdout",
       "text": [
        " 1\n",
        "before yield 2\n",
        "after yield"
       ]
      },
      {
       "output_type": "stream",
       "stream": "stdout",
       "text": [
        " 2\n",
        "end\n"
       ]
      },
      {
       "ename": "StopIteration",
       "evalue": "",
       "output_type": "pyerr",
       "traceback": [
        "\u001b[1;31m---------------------------------------------------------------------------\u001b[0m\n\u001b[1;31mStopIteration\u001b[0m                             Traceback (most recent call last)",
        "\u001b[1;32m<ipython-input-23-ae26215dec34>\u001b[0m in \u001b[0;36m<module>\u001b[1;34m()\u001b[0m\n\u001b[0;32m     18\u001b[0m     \u001b[0mcounter\u001b[0m\u001b[1;33m.\u001b[0m\u001b[0mnext\u001b[0m\u001b[1;33m(\u001b[0m\u001b[1;33m)\u001b[0m\u001b[1;33m\u001b[0m\u001b[0m\n\u001b[0;32m     19\u001b[0m     \u001b[0msleep\u001b[0m\u001b[1;33m(\u001b[0m\u001b[1;36m5\u001b[0m\u001b[1;33m)\u001b[0m\u001b[1;33m\u001b[0m\u001b[0m\n\u001b[1;32m---> 20\u001b[1;33m     \u001b[0mcounter\u001b[0m\u001b[1;33m.\u001b[0m\u001b[0mnext\u001b[0m\u001b[1;33m(\u001b[0m\u001b[1;33m)\u001b[0m\u001b[1;33m\u001b[0m\u001b[0m\n\u001b[0m\u001b[0;32m     21\u001b[0m     \u001b[1;32mprint\u001b[0m \u001b[1;34m'--------------------'\u001b[0m\u001b[1;33m\u001b[0m\u001b[0m\n\u001b[0;32m     22\u001b[0m     \u001b[0mcounter\u001b[0m \u001b[1;33m=\u001b[0m \u001b[0mcount_to_3\u001b[0m\u001b[1;33m(\u001b[0m\u001b[1;33m)\u001b[0m\u001b[1;33m\u001b[0m\u001b[0m\n",
        "\u001b[1;31mStopIteration\u001b[0m: "
       ]
      }
     ],
     "input": [
      "from time import sleep\n",
      "\n",
      "def count_to_3():\n",
      "    print \"begin\"\n",
      "    for i in range(3):\n",
      "        print \"before yield\", i\n",
      "        yield i\n",
      "        print \"after yield\", i\n",
      "    print \"end\"\n",
      "    \n",
      "if __name__ == \"__main__\":\n",
      "    counter = count_to_3()\n",
      "    print '--------------------'\n",
      "    counter.next()\n",
      "    sleep(1)\n",
      "    counter.next()\n",
      "    sleep(1)\n",
      "    counter.next()\n",
      "    sleep(1)\n",
      "    counter.next()\n",
      "    print '--------------------'\n",
      "    counter = count_to_3()\n",
      "    print '--------------------'\n",
      "    for i in counter:\n",
      "        print i"
     ],
     "language": "python",
     "prompt_number": 23
    },
    {
     "cell_type": "code",
     "metadata": {},
     "outputs": [
      {
       "output_type": "stream",
       "stream": "stdout",
       "text": [
        "[2, 2, 2, 2]\n",
        "[2, 2, 2, 2]\n",
        "[2, 2, 2, 2]\n",
        "-----------------\n",
        "1000000 loops, best of 3: 495 ns per loop"
       ]
      },
      {
       "output_type": "stream",
       "stream": "stdout",
       "text": [
        "\n",
        "1000000 loops, best of 3: 217 ns per loop"
       ]
      },
      {
       "output_type": "stream",
       "stream": "stdout",
       "text": [
        "\n",
        "1000000 loops, best of 3: 633 ns per loop"
       ]
      },
      {
       "output_type": "stream",
       "stream": "stdout",
       "text": [
        "\n",
        "-----------------\n",
        "4\n",
        "4\n",
        "-----------------\n",
        "<generator object <genexpr> at 0x000000000A3B0BD0>\n",
        "1\n",
        "1\n",
        "1\n",
        "1\n",
        "-----------------\n",
        "{0: 1, 1: 1, 2: 1, 3: 1}\n",
        "{}\n"
       ]
      }
     ],
     "input": [
      "def increment_list(lst):\n",
      "    newlist = []\n",
      "    for elt in lst:\n",
      "        newlist.append(elt+1)\n",
      "    return newlist\n",
      "\n",
      "def plus_one(integer):\n",
      "    return integer+1\n",
      "\n",
      "def sum_integers(integer1, integer2):\n",
      "    return integer1+integer2\n",
      "\n",
      "if __name__ == '__main__':\n",
      "    test_lst =  [1,1,1,1]\n",
      "\n",
      "    print increment_list(test_lst)\n",
      "    print [elt+1 for elt in test_lst]\n",
      "    print map(plus_one, test_lst)\n",
      "    print '-----------------'\n",
      "    %timeit increment_list(test_lst)\n",
      "    %timeit [elt+1 for elt in test_lst]\n",
      "    %timeit map(plus_one, test_lst)\n",
      "    print '-----------------'\n",
      "    print sum(test_lst)\n",
      "    print reduce(sum_integers, test_lst)\n",
      "    print '-----------------'\n",
      "    \n",
      "    test_generator = (elt for elt in test_lst)\n",
      "    print test_generator\n",
      "    for i in test_generator:\n",
      "        print i\n",
      "    print '-----------------'\n",
      "    dico = dict( (_i, elt) for _i, elt in enumerate(test_lst))\n",
      "    print dico\n",
      "    dico = dict( (_i, elt) for _i, elt in enumerate(test_generator))\n",
      "    print dico"
     ],
     "language": "python",
     "prompt_number": 26
    },
    {
     "cell_type": "code",
     "metadata": {},
     "outputs": [
      {
       "output_type": "stream",
       "stream": "stdout",
       "text": [
        "super2\n",
        "super3\n",
        "super4\n",
        "super5\n",
        "super6\n",
        "----------------------------------\n",
        "super2\n",
        "super3\n",
        "super4\n",
        "super5\n",
        "super6\n"
       ]
      }
     ],
     "input": [
      "def layer_1(iterator):\n",
      "    \"\"\" add one \"\"\"\n",
      "    for elt in iterator:\n",
      "        yield elt + 1\n",
      "\n",
      "def layer_2(iterator):\n",
      "    \"\"\"  convert ot string \"\"\" \n",
      "    for elt in iterator:\n",
      "        yield str(elt)\n",
      "\n",
      "def layer_3(iterator):\n",
      "    \"\"\"  add super-prefix \"\"\" \n",
      "    for elt in iterator:\n",
      "        yield 'super' + elt\n",
      "\n",
      "tst_lst = [1, 2, 3, 4, 5]\n",
      "\n",
      "if __name__ == \"__main__\":\n",
      "    for elt in layer_3(layer_2(layer_1(tst_lst))):\n",
      "        print elt\n",
      "    \n",
      "    print '----------------------------------'\n",
      "    \n",
      "    for elt in reduce((lambda x, y: y(x)), [layer_1, layer_2, layer_3], tst_lst):  # in functional languages, we are doing a fold\n",
      "        print elt"
     ],
     "language": "python",
     "prompt_number": 27
    },
    {
     "cell_type": "code",
     "metadata": {},
     "outputs": [
      {
       "ename": "ImportError",
       "evalue": "cannot import name permutation",
       "output_type": "pyerr",
       "traceback": [
        "\u001b[1;31m---------------------------------------------------------------------------\u001b[0m\n\u001b[1;31mImportError\u001b[0m                               Traceback (most recent call last)",
        "\u001b[1;32m<ipython-input-28-4c0ed2fce9da>\u001b[0m in \u001b[0;36m<module>\u001b[1;34m()\u001b[0m\n\u001b[1;32m----> 1\u001b[1;33m \u001b[1;32mfrom\u001b[0m \u001b[0mitertools\u001b[0m \u001b[1;32mimport\u001b[0m \u001b[0mcycle\u001b[0m\u001b[1;33m,\u001b[0m \u001b[0mchain\u001b[0m\u001b[1;33m,\u001b[0m \u001b[0mcompress\u001b[0m\u001b[1;33m,\u001b[0m \u001b[0mifilter\u001b[0m\u001b[1;33m,\u001b[0m \u001b[0mimap\u001b[0m\u001b[1;33m,\u001b[0m \u001b[0mizip\u001b[0m\u001b[1;33m,\u001b[0m \u001b[0mizip_longest\u001b[0m\u001b[1;33m,\u001b[0m \u001b[0mproduct\u001b[0m\u001b[1;33m,\u001b[0m \u001b[0mpermutation\u001b[0m\u001b[1;33m,\u001b[0m \u001b[0mcombination\u001b[0m\u001b[1;33m\u001b[0m\u001b[0m\n\u001b[0m",
        "\u001b[1;31mImportError\u001b[0m: cannot import name permutation"
       ]
      }
     ],
     "input": [
      "from itertools import cycle, chain, compress, ifilter, imap, izip, izip_longest, product, permutations, combination"
     ],
     "language": "python",
     "prompt_number": 28
    },
    {
     "cell_type": "markdown",
     "metadata": {},
     "source": [
      "**Ex13: Lambdas**\n",
      "\n",
      "Sort the following dicts using a lambda function. Here are some informations you might need:\n",
      "    - 'sorted()' function will perform the sorting of a list for you\n",
      "    - 'key' function allows you to select what element will be selected for the comparison if value is a lists of elements \n",
      "    - 'reverse' allows to invert the sorting order\n",
      "    - '{}.iteritems()' will create an iterator of (key, value) pairs from a dictionary"
     ]
    },
    {
     "cell_type": "code",
     "metadata": {},
     "outputs": [],
     "input": [
      "dct = {'a':(1, 1), 'b':(1, 2), 'c':(2, 3)}"
     ],
     "language": "python",
     "prompt_number": 24
    },
    {
     "cell_type": "markdown",
     "metadata": {},
     "source": [
      "**Ex14: Functional Python**\n",
      "\n",
      "use a lambda function to count the number of elements in the following lists and then to count the number of elements with length over 4 in the strings below:"
     ]
    },
    {
     "cell_type": "code",
     "metadata": {},
     "outputs": [],
     "input": [
      "# map-imap-ifilter-reduce\n",
      "from itertools import ifilter, imap, count\n",
      "from collections import defaultdict, Counter\n",
      "\n",
      "a = [1, 2, 3]\n",
      "b = [4, 5, 6, 7]\n",
      "c = [8, 9, 1, 2, 3]\n",
      "\n",
      "s1 = 'fs a prul'\n",
      "s2 = 'prul a fs tke i dama'\n",
      "s3 = 'dama ka a i prul'\n",
      "\n",
      "# Solution:"
     ],
     "language": "python",
     "prompt_number": 29
    },
    {
     "cell_type": "markdown",
     "metadata": {},
     "source": [
      "**Ex15: collections**\n",
      "Implement each task in the simplest manner you could think of, and then using the collections. Compare the speed of implementations."
     ]
    },
    {
     "cell_type": "code",
     "metadata": {},
     "outputs": [],
     "input": [
      "from collections import namedtuple, deque, Counter, OrderedDict, defaultdict\n",
      "\n",
      "dct = {'a':1,'b':2,'c':3}\n",
      "master_dct = {}\n",
      "st = [1,2,3,4,5,6,1,3,7,4,1,6,7]\n",
      "master_lst = []\n",
      "\n",
      "def naive_sort_dict():\n",
      "    pass\n",
      "\n",
      "def naive_dict_stabilization():\n",
      "    pass\n",
      "\n",
      "def naive_counter():\n",
      "    pass\n",
      "\n",
      "def naive_dict_ordering():\n",
      "    pass\n",
      "\n",
      "if __name__ == \"__main__\":\n",
      "    pass"
     ],
     "language": "python",
     "prompt_number": 30
    },
    {
     "cell_type": "markdown",
     "metadata": {},
     "source": [
      "**Ex16: Basic threading**"
     ]
    },
    {
     "cell_type": "code",
     "metadata": {},
     "outputs": [],
     "input": [
      "from multiprocessing import Pool\n",
      "\n",
      "# WARNING: threads and multiprocessing don't work with REPL but require parsed files.\n",
      "# ipython is ok\n",
      "\n",
      "# Map, imap, \n",
      "# partition\n",
      "# reduce as chain of map responses to which a reduce function is applied\n",
      "\n",
      "def f(x):\n",
      "    return x*x\n",
      "\n",
      "def f2(x1, x2):\n",
      "    return \"%s; %s\", (x1, x2)\n",
      "\n",
      "if __name__ == '__main__':\n",
      "    p = Pool(5)\n",
      "    print(p.map(f, [1, 2, 3]))\n",
      "    for elt in (p.imap(f, ['a', 'b', 'c'], ['b','c','d'])):\n",
      "        print elt\n",
      "    p.terminate()"
     ],
     "language": "python"
    },
    {
     "cell_type": "markdown",
     "metadata": {},
     "source": [
      "**Ex 17: using RAM profiler**\n",
      "\n",
      "1) Download and install python memory profiler:\n",
      "\n",
      " >pip install -U memory_profiler\n",
      " \n",
      " \n",
      "2) Execute a memory profiler on the following function (NB: you'll need to fill it in locall):\n",
      "\n",
      "3) Wrap your function with a logging wrapper from a previous exercice are re-run the profiler.\n",
      "\n",
      "What do you observe?"
     ]
    },
    {
     "cell_type": "code",
     "metadata": {},
     "outputs": [
      {
       "output_type": "stream",
       "stream": "stdout",
       "text": [
        "Filename: <ipython-input-31-776b2651beed>\n",
        "\n",
        "ERROR: Could not find file <ipython-input-31-776b2651beed>\n",
        "NOTE: %mprun can only be used on functions defined in physical files, and not in the IPython environment.\n"
       ]
      }
     ],
     "input": [
      "# you will need to copy this code you your local machine and run it there\n",
      "\n",
      "from memory_profiler import profile\n",
      "\n",
      "@profile\n",
      "def my_func():\n",
      "    a = [1] * (10 ** 6)\n",
      "    b = [2] * (2 * 10 ** 7)\n",
      "    del b\n",
      "    return a\n",
      "\n",
      "if __name__ == '__main__':\n",
      "    my_func()"
     ],
     "language": "python",
     "prompt_number": 31
    },
    {
     "cell_type": "markdown",
     "metadata": {},
     "source": [
      "**Ex 18: Basic numpy arrays and their variants**\n",
      "\n",
      "    1) Python matrix and python array are not the same. For the sake of simplicity, everyone is usung np.array and not np.matrix/\n",
      "    2) array creation routines : random data, linspace, mesh, diag, zeros\n",
      "    3) .dtype and astype(np.float)\n",
      "    4) show np.save, np.load\n",
      "    5) .shape, not dim(); [:, 1]; newaxis; boolean indexing; stepping [::2], start/stop: [2:], [:-1]\n",
      "    6) Linear algebra basics: `*`, .T/.H, dot(a,b), .I (achtung: raises exception, generally better to use explicit solvers)\n",
      "    7) reshape, pad, newaxis, repeat, concatenate\n",
      "    8) copy v.s. deepcopy\n",
      "    9) function vectorization\n",
      "    10) boolean element logical tests\n",
      "    11) scipy.sparse.lilmatrix\n",
      "    12) show how embedded list manipulation become easier in numpy"
     ]
    },
    {
     "cell_type": "code",
     "metadata": {},
     "outputs": [
      {
       "output_type": "stream",
       "stream": "stdout",
       "text": [
        "100000 loops, best of 3: 12.9 �s per loop\n",
        "100000 loops, best of 3: 6.38 �s per loop"
       ]
      },
      {
       "output_type": "stream",
       "stream": "stdout",
       "text": [
        "\n"
       ]
      }
     ],
     "input": [
      "import numpy as np\n",
      "\n",
      "def f1(lst_arg):\n",
      "    collection_list = []\n",
      "    for sublist in lst_arg:\n",
      "        collection_list.append([])\n",
      "        for element in sublist:\n",
      "            collection_list[-1].append(element**2)\n",
      "            \n",
      "    return collection_list\n",
      "\n",
      "def f2(lst_args):\n",
      "    return np.array(lst_args)**2\n",
      "            \n",
      "if __name__ == \"__main__\":\n",
      "    lst = [[i]*10 for i in range (0, 10)]\n",
      "#     print lst\n",
      "#     print f1(lst)\n",
      "#     print f2(lst)\n",
      "    %timeit f1(lst)\n",
      "    %timeit f2(lst)"
     ],
     "language": "python",
     "prompt_number": 2
    },
    {
     "cell_type": "code",
     "metadata": {},
     "outputs": [
      {
       "output_type": "stream",
       "stream": "stdout",
       "text": [
        "(4L, 4L, 2L)\n",
        "[[ 0.  0.  0.  0.]\n",
        " [ 1.  1.  1.  1.]\n",
        " [ 2.  2.  2.  2.]\n",
        " [ 3.  3.  3.  3.]]\n",
        "[[ 0.  1.  2.  3.]\n",
        " [ 0.  1.  2.  3.]\n",
        " [ 0.  1.  2.  3.]\n",
        " [ 0.  1.  2.  3.]]\n",
        "[ 1.  1.  1.  1.]\n",
        "[ 1.  1.  1.  1.]\n",
        "[[ 1.  0.]\n",
        " [ 0.  0.]]\n",
        "[['0.0' '0.0']\n",
        " ['0.0' '0.0']]\n"
       ]
      }
     ],
     "input": [
      "from itertools import combinations_with_replacement\n",
      "\n",
      "arr = np.zeros((4, 4, 2))\n",
      "for i, j in combinations_with_replacement(range(0,4), 2):\n",
      "    arr[i, j] = (i, j)\n",
      "    arr[j, i] = (j, i)\n",
      "\n",
      "print arr.shape\n",
      "\n",
      "lines =arr[:, :, 0]\n",
      "columns = arr[:, :, 1]\n",
      "print lines\n",
      "print columns\n",
      "\n",
      "print lines[1, :]\n",
      "print columns[:, 1]\n",
      "\n",
      "lines[::2,:]"
     ],
     "language": "python",
     "prompt_number": 37
    },
    {
     "cell_type": "code",
     "metadata": {},
     "outputs": [],
     "input": [
      "print lines>1\n",
      "print columns>1\n",
      "print np.logical_or(lines>1, columns>1)\n",
      "print np.logical_and(lines>1, columns>1)\n",
      "print np.logical_xor(lines>1, columns>1)\n",
      "\n",
      "print lines[lines>1]\n",
      "new_arr = np.zeros((4,4))\n",
      "new_arr[lines>1] = lines[lines>1]\n",
      "print new_arr"
     ],
     "language": "python"
    },
    {
     "cell_type": "code",
     "metadata": {},
     "outputs": [
      {
       "output_type": "stream",
       "stream": "stdout",
       "text": [
        "[[ 1.  0.]\n",
        " [ 0.  0.]]\n",
        "float64\n",
        "[['0.0' '0.0']\n",
        " ['0.0' '0.0']]\n",
        "|S32\n"
       ]
      }
     ],
     "input": [
      "A = np.zeros((2, 2))\n",
      "B = A\n",
      "B[0, 0] = 1\n",
      "print A\n",
      "\n",
      "print A.dtype\n",
      "\n",
      "A = np.zeros((2, 2))\n",
      "A = A.astype(np.str)\n",
      "B = A.copy()\n",
      "B[0, 0] = '1.0'\n",
      "print A\n",
      "\n",
      "print A.dtype"
     ],
     "language": "python",
     "prompt_number": 40
    },
    {
     "cell_type": "code",
     "metadata": {},
     "outputs": [
      {
       "output_type": "pyout",
       "prompt_number": 52,
       "text": [
        "(4L, 4L, 2L)"
       ],
       "metadata": {}
      }
     ],
     "input": [
      "print np.pad(lines,((1,2),(3,4)), 'edge')\n",
      "print np.reshape(arr, (2,4,4))\n",
      "print lines[np.newaxis,:, :]\n",
      "print np.repeat(lines, 2, axis=1)\n",
      "print np.concatenate((lines, columns), axis=1)\n",
      "print n_arr = np.rollaxis(arr, 2)\n",
      "print n_arr.shape\n",
      "print arr.shape"
     ],
     "language": "python",
     "prompt_number": 52
    },
    {
     "cell_type": "code",
     "metadata": {},
     "outputs": [
      {
       "output_type": "stream",
       "stream": "stdout",
       "text": [
        "[[ 0.  0.  0.  0.]\n",
        " [ 0.  1.  2.  3.]\n",
        " [ 0.  2.  4.  6.]\n",
        " [ 0.  3.  6.  9.]]\n",
        "[[ 0.  0.  0.  0.]\n",
        " [ 1.  1.  1.  1.]\n",
        " [ 2.  2.  2.  2.]\n",
        " [ 3.  3.  3.  3.]]\n",
        "[[  0.   0.   0.   0.]\n",
        " [ 10.  10.  10.  10.]\n",
        " [ 20.  20.  20.  20.]\n",
        " [ 30.  30.  30.  30.]]\n",
        "[[ 0.  0.  0.  0.]\n",
        " [ 1.  1.  1.  1.]\n",
        " [ 2.  2.  2.  2.]\n",
        " [ 3.  3.  3.  3.]]\n",
        "[[  0.   0.   0.   0.]\n",
        " [  0.   4.   8.  12.]\n",
        " [  0.   8.  16.  24.]\n",
        " [  0.  12.  24.  36.]]\n",
        "(array([ -2.40201475e-15,   0.00000000e+00,   1.50133186e-15,\n",
        "         5.60000000e+01]), array([[ 0.        ,  1.        , -0.        ,  0.        ],\n",
        "       [ 0.5976232 ,  0.        , -0.75592191,  0.26726124],\n",
        "       [-0.74464991,  0.        , -0.39972769,  0.53452248],\n",
        "       [ 0.29722554,  0.        ,  0.5184591 ,  0.80178373]]))"
       ]
      },
      {
       "output_type": "stream",
       "stream": "stdout",
       "text": [
        "\n"
       ]
      }
     ],
     "input": [
      "print lines*columns\n",
      "print lines\n",
      "lines *= 10\n",
      "print lines\n",
      "lines /= 10\n",
      "print lines\n",
      "hmat = np.dot(lines, columns)\n",
      "print hmat\n",
      "print np.linalg.eigh(hmat)"
     ],
     "language": "python",
     "prompt_number": 66
    },
    {
     "cell_type": "code",
     "metadata": {},
     "outputs": [
      {
       "output_type": "stream",
       "stream": "stdout",
       "text": [
        "[[ 0.52291016  0.0861436 ]\n",
        " [ 0.55808157  0.54514512]]\n",
        "[[ 0.  0.]\n",
        " [ 0.  0.]]\n",
        "[[ 1.  1.]\n",
        " [ 1.  1.]]\n",
        "[[ 0.  1.]\n",
        " [ 2.  3.]]\n",
        "[[1 0]\n",
        " [0 2]]\n"
       ]
      }
     ],
     "input": [
      "print np.random.rand(2,2)\n",
      "print np.zeros((2,2))\n",
      "print np.ones((2,2))\n",
      "print np.linspace(0, 3, 4).reshape((2,2))\n",
      "print np.diag(np.array([1,2]))"
     ],
     "language": "python",
     "prompt_number": 18
    },
    {
     "cell_type": "markdown",
     "metadata": {},
     "source": [
      "**Ex 19: Using numpy arrays indexing**\n",
      "\n",
      "1) In the following exercice, create a function without \"for\" or \"while\" loops that takes in a numpy matrix and index list and returns matrix sorted by the indexes provided, so that the matrix is first sorted on the column a), then column b), then column c), etc..., a-.. being indexes provided.\n",
      "\n",
      "2) Write a unit-test that\n",
      "  - tests if the sorting was performed correctly\n",
      "  - measures the amoung of RAM you've used\n",
      "  - measures the execution time of your function\n",
      "  \n",
      "3) Advanced, thus optional:\n",
      "  - Create a numpy array representing a mapping from unique identifiers to 5 different \"traits\", that are a mix of string, float and integers.\n",
      "  - Add a sixth trait that is a mapping to 10 different values, each of which is a 5-tuple of strings.\n",
      "  - Fill the array with sample data (~100 unique identifiers; )\n",
      "  - Create a routine that allows to:\n",
      "      - retrieve the set of unique identifiers that posess a defined trait\n",
      "      - retieve the set of unique identifiers for which one of the 5-tuple of strings contain a defined substring    "
     ]
    },
    {
     "cell_type": "code",
     "metadata": {},
     "outputs": [],
     "input": [
      "import numpy as np\n",
      "\n",
      "# select filtering indexes\n",
      "filter_indexes = [1, 3]\n",
      "# generate the test data\n",
      "raw_data = np.random.randint(0, 4, size=(50,5))\n",
      "\n",
      "\n",
      "# create a column that we would use for indexing\n",
      "index_columns = raw_data[:, filter_indexes]\n",
      "\n",
      "# sort the index columns by lexigraphic order over all the indexing columns\n",
      "argsorts = np.lexsort(index_columns.T)\n",
      "\n",
      "# sort both the index and the data column\n",
      "sorted_index = index_columns[argsorts, :]\n",
      "sorted_data = raw_data[argsorts, :]\n",
      "\n",
      "# in each indexing column, find if number in row and row-1 are identical\n",
      "# then group to check if all numbers in corresponding positions in row and row-1 are identical\n",
      "autocorrelation = np.all(sorted_index[1:, :] == sorted_index[:-1, :], axis=1)\n",
      "\n",
      "# find out the breakpoints: these are the positions where row and row-1 are not identical\n",
      "breakpoints = np.nonzero(np.logical_not(autocorrelation))[0]+1\n",
      "\n",
      "# finally find the desired subsets \n",
      "subsets = np.split(sorted_data, breakpoints)"
     ],
     "language": "python",
     "prompt_number": 13
    },
    {
     "cell_type": "markdown",
     "metadata": {},
     "source": [
      "**Ex 20: fitting a function**"
     ]
    },
    {
     "cell_type": "code",
     "metadata": {},
     "outputs": [
      {
       "output_type": "stream",
       "stream": "stdout",
       "text": [
        "t-statistic = -0.907220652173\n",
        "p-value = 0.364399525926\n"
       ]
      }
     ],
     "input": [
      "from scipy import stats\n",
      "\n",
      "X = stats.poisson(3.5)\n",
      "Y = stats.norm()\n",
      "\n",
      "t_statistic, p_value = stats.ttest_ind(X.rvs(size=1000), X.rvs(size=1000))\n",
      "\n",
      "print \"t-statistic =\", t_statistic\n",
      "print \"p-value =\", p_value"
     ],
     "language": "python",
     "prompt_number": 19
    },
    {
     "cell_type": "code",
     "metadata": {},
     "outputs": [
      {
       "output_type": "stream",
       "stream": "stdout",
       "text": [
        "[ 2.58142367  1.50786117  0.50400054]\n",
        "[[ 0.02050211  0.01022599 -0.00073763]\n",
        " [ 0.01022599  0.02869223  0.00608063]\n",
        " [-0.00073763  0.00608063  0.00283359]]\n"
       ]
      },
      {
       "output_type": "display_data",
       "png": "[encoded data removed]",
       "text": [
        "<matplotlib.figure.Figure at 0x147210f0>"
       ],
       "metadata": {}
      }
     ],
     "input": [
      "from scipy.optimize import curve_fit\n",
      "from matplotlib import pyplot as plt\n",
      "\n",
      "def func(x, a, b, c):\n",
      "    return a * np.exp(-b * x) + c\n",
      "\n",
      "xdata = np.linspace(0, 4, 50)\n",
      "y = func(xdata, 2.5, 1.3, 0.5)\n",
      "ydata = y + 0.2 * np.random.normal(size=len(xdata))\n",
      "popt, pcov = curve_fit(func, xdata, ydata)\n",
      "print popt\n",
      "print pcov\n",
      "\n",
      "plt.plot(xdata, ydata)\n",
      "plt.plot(xdata, func(xdata, *popt))\n",
      "plt.show()"
     ],
     "language": "python",
     "prompt_number": 31
    },
    {
     "cell_type": "code",
     "metadata": {},
     "outputs": [],
     "input": [
      "from scipy import odr\n",
      "\n",
      "def lin(p, x):\n",
      "    a, b, c, d = p\n",
      "    return c*x\n",
      "\n",
      "def pol2(p, x):\n",
      "     a, b, c, d = p\n",
      "     return b*x**2 + c*x + d\n",
      "\n",
      "\n",
      "def pol3(p, x):\n",
      "    a, b, c, d = p\n",
      "    return a*x**3 + b**x**2 + c*x + d\n",
      "\n",
      "def regress(x, y, x_sd, y_sd, function_to_fit=pol3, name_to_plot='', figure_no=1):\n",
      "\n",
      "    def plot_result():\n",
      "        x_fit = np.linspace(np.min(x)*0.95, np.max(x)*1.05, 1000)\n",
      "        y_fit = function_to_fit(out.beta, x_fit)\n",
      "        lin_fit = lin(lin_out.beta, x_fit)\n",
      "        plt.subplot(2, 2, figure_no)\n",
      "        plt.title(name_to_plot+': \\n %.2fx^3 + %.2fx^2 + %.2fx + %.2f v.s. %.2fx. \\n Res var gain: x %.2f' % tuple(out.beta.tolist()+[lin_out.beta.tolist()[2]]+[lin_out.res_var/out.res_var]))\n",
      "        plt.errorbar(x, y, xerr=x_sd, yerr=y_sd, linestyle='None', marker='x')\n",
      "        plt.plot(x_fit, y_fit, 'g')\n",
      "        plt.plot(x_fit, lin_fit, 'r')\n",
      "        plt.autoscale(tight=True)\n",
      "\n",
      "    model = odr.Model(function_to_fit)\n",
      "    data = odr.RealData(x, y, sx=x_sd, sy=y_sd)\n",
      "    _odr = odr.ODR(data, model, beta0=[1., 1., 10., 0.01])\n",
      "    out = _odr.run()\n",
      "\n",
      "    lin_model = odr.Model(lin)\n",
      "    lin_odr = odr.ODR(data, lin_model, beta0=[0., 0., 10., 0.01])\n",
      "    lin_out = lin_odr.run()\n",
      "\n",
      "    lin_out.pprint()\n",
      "\n",
      "    plot_result()\n",
      "\n",
      "    return out.beta"
     ],
     "language": "python",
     "prompt_number": 22
    },
    {
     "cell_type": "markdown",
     "metadata": {},
     "source": [
      "**Ex 21: Matplotlib and pyplot**:\n"
     ]
    },
    {
     "cell_type": "code",
     "metadata": {},
     "outputs": [
      {
       "output_type": "display_data",
       "png": "[encoded data removed]",
       "text": [
        "<matplotlib.figure.Figure at 0x145889e8>"
       ],
       "metadata": {}
      },
      {
       "output_type": "display_data",
       "png": "[encoded data removed]",
       "text": [
        "<matplotlib.figure.Figure at 0x16eda080>"
       ],
       "metadata": {}
      },
      {
       "output_type": "display_data",
       "png": "[encoded data removed]",
       "text": [
        "<matplotlib.figure.Figure at 0x164c48d0>"
       ],
       "metadata": {}
      }
     ],
     "input": [
      "from matplotlib import pyplot as plt\n",
      "\n",
      "years = np.linspace(1800, 2010, 210)\n",
      "temp_data = np.random.rand(210)\n",
      "\n",
      "fig, ax = plt.subplots(figsize=(14,4))\n",
      "ax.plot(years, temp_data)\n",
      "ax.axis('tight')\n",
      "ax.set_title('tempeatures in Stockholm')\n",
      "ax.set_xlabel('year')\n",
      "ax.set_ylabel('temperature (C)');\n",
      "plt.show()\n",
      "\n",
      "# axes sharing:\n",
      "f, (ax1, ax2, ax3) = plt.subplots(3, sharex=True, sharey=True)\n",
      "ax1.plot(years, temp_data)\n",
      "ax1.set_title('Sharing both axes')\n",
      "ax2.plot(years, temp_data, 'g.')\n",
      "ax3.scatter(years, 2 * temp_data ** 2 - 1, color='r')\n",
      "f.subplots_adjust(hspace=0)\n",
      "plt.setp([a.get_xticklabels() for a in f.axes[:-1]], visible=False)\n",
      "plt.show()\n",
      "\n",
      "r_array = np.random.rand(100, 100)\n",
      "plt.imshow(r_array, interpolation='nearest', cmap='gray')\n",
      "plt.colorbar()\n",
      "plt.show()"
     ],
     "language": "python",
     "prompt_number": 53
    },
    {
     "cell_type": "markdown",
     "metadata": {},
     "source": [
      "**Additional:**"
     ]
    },
    {
     "cell_type": "markdown",
     "metadata": {},
     "source": [
      "Show that each module gives an access to a set of elements that are available as a dict mapping to different elements"
     ]
    },
    {
     "cell_type": "code",
     "metadata": {},
     "outputs": [
      {
       "output_type": "stream",
       "stream": "stdout",
       "text": [
        "['__doc__', '__name__', '__package__', 'acos', 'acosh', 'asin', 'asinh', 'atan', 'atan2', 'atanh', 'ceil', 'copysign', 'cos', 'cosh', 'degrees', 'e', 'erf', 'erfc', 'exp', 'expm1', 'fabs', 'factorial', 'floor', 'fmod', 'frexp', 'fsum', 'gamma', 'hypot', 'isinf', 'isnan', 'ldexp', 'lgamma', 'log', 'log10', 'log1p', 'modf', 'pi', 'pow', 'radians', 'sin', 'sinh', 'sqrt', 'tan', 'tanh', 'trunc']\n"
       ]
      }
     ],
     "input": [
      "import math\n",
      "\n",
      "print(dir(math))"
     ],
     "language": "python",
     "prompt_number": 5
    },
    {
     "cell_type": "markdown",
     "metadata": {},
     "source": [
      "Show that there are actually closures inside the functions we are working on"
     ]
    },
    {
     "cell_type": "code",
     "metadata": {},
     "outputs": [
      {
       "output_type": "stream",
       "stream": "stdout",
       "text": [
        "['__call__', '__class__', '__closure__', '__code__', '__defaults__', '__delattr__', '__dict__', '__doc__', '__format__', '__get__', '__getattribute__', '__globals__', '__hash__', '__init__', '__module__', '__name__', '__new__', '__reduce__', '__reduce_ex__', '__repr__', '__setattr__', '__sizeof__', '__str__', '__subclasshook__', 'func_closure', 'func_code', 'func_defaults', 'func_dict', 'func_doc', 'func_globals', 'func_name']\n",
        "<type 'function'>\n",
        "(None,)\n",
        "['__call__', '__class__', '__closure__', '__code__', '__defaults__', '__delattr__', '__dict__', '__doc__', '__format__', '__get__', '__getattribute__', '__globals__', '__hash__', '__init__', '__module__', '__name__', '__new__', '__reduce__', '__reduce_ex__', '__repr__', '__setattr__', '__sizeof__', '__str__', '__subclasshook__', 'func_closure', 'func_code', 'func_defaults', 'func_dict', 'func_doc', 'func_globals', 'func_name']\n",
        "<function f_inner at 0x00000000040AC278>\n",
        "['__call__', '__class__', '__closure__', '__code__', '__defaults__', '__delattr__', '__dict__', '__doc__', '__format__', '__get__', '__getattribute__', '__globals__', '__hash__', '__init__', '__module__', '__name__', '__new__', '__reduce__', '__reduce_ex__', '__repr__', '__setattr__', '__sizeof__', '__str__', '__subclasshook__', 'func_closure', 'func_code', 'func_defaults', 'func_dict', 'func_doc', 'func_globals', 'func_name']\n",
        "(<cell at 0x0000000004157318: int object at 0x0000000001D28478>,)\n"
       ]
      }
     ],
     "input": [
      "def f1(arg1=None):\n",
      "    return None\n",
      "\n",
      "\n",
      "def f_outer():\n",
      "    \n",
      "    def f_inner(params):\n",
      "        return a+params\n",
      "    \n",
      "    a = 1\n",
      "    \n",
      "    return f_inner\n",
      "\n",
      "\n",
      "if __name__ == \"__main__\":\n",
      "    print dir(f1)\n",
      "    print f1.__class__\n",
      "    print f1.__defaults__\n",
      "    \n",
      "    print dir(f_outer)\n",
      "    print f_outer()\n",
      "    print dir(f_outer())\n",
      "    print f_outer().__closure__"
     ],
     "language": "python",
     "prompt_number": 21
    },
    {
     "cell_type": "markdown",
     "metadata": {},
     "source": [
      "`/` operator means integer division on integers and float division on floats in python 2, but in python 3 the division is always float.\n",
      "\n",
      "`*` operator will multiply any number-likes, but will repeat a string or a list"
     ]
    },
    {
     "cell_type": "code",
     "metadata": {},
     "outputs": [
      {
       "output_type": "stream",
       "stream": "stdout",
       "text": [
        "0\n",
        "0.5\n"
       ]
      }
     ],
     "input": [
      "print 1/2\n",
      "\n",
      "print 1./2"
     ],
     "language": "python",
     "prompt_number": 2
    },
    {
     "cell_type": "code",
     "metadata": {},
     "outputs": [
      {
       "output_type": "stream",
       "stream": "stdout",
       "text": [
        "0.5\n"
       ]
      }
     ],
     "input": [
      "from __future__ import division\n",
      "print 1/2"
     ],
     "language": "python",
     "prompt_number": 3
    },
    {
     "cell_type": "code",
     "metadata": {},
     "outputs": [
      {
       "output_type": "stream",
       "stream": "stdout",
       "text": [
        "abcabcabc\n",
        "[1, 2, 3, 1, 2, 3, 1, 2, 3]\n"
       ]
      }
     ],
     "input": [
      "print 'abc'*3\n",
      "print [1, 2, 3]*3"
     ],
     "language": "python",
     "prompt_number": 5
    },
    {
     "cell_type": "markdown",
     "metadata": {},
     "source": [
      "\"%s, %f\" formatting allows to easily format strings you would like to pring"
     ]
    },
    {
     "cell_type": "code",
     "metadata": {},
     "outputs": [
      {
       "output_type": "stream",
       "stream": "stdout",
       "text": [
        "3.0 is ok, but: \t 0.333333333333 is better off as 0.33\n"
       ]
      }
     ],
     "input": [
      "print \"%s is ok, but: \\t %s is better off as %.2f\" %(3., 1/3, 1/3)"
     ],
     "language": "python",
     "prompt_number": 8
    },
    {
     "cell_type": "markdown",
     "metadata": {},
     "source": [
      "Using docstrings properly is absolutely essential for writing good python code. Not only it will help the tomorrow-you to figure out what you've just did, combined with Sphinx it makes documentation creation for your code really easy."
     ]
    },
    {
     "cell_type": "code",
     "metadata": {},
     "outputs": [
      {
       "output_type": "stream",
       "stream": "stdout",
       "text": [
        "\n",
        "    Print a string 's' and tell how many characters it has    \n",
        "    \n",
        "Help on function func1 in module __main__:\n",
        "\n",
        "func1(s)\n",
        "    Print a string 's' and tell how many characters it has\n",
        "\n",
        "None\n"
       ]
      }
     ],
     "input": [
      "def func1(s):\n",
      "    \"\"\"\n",
      "    Print a string 's' and tell how many characters it has    \n",
      "    \"\"\"\n",
      "    \n",
      "    print(s + \" has \" + str(len(s)) + \" characters\")\n",
      "\n",
      "if __name__ == \"__main__\":\n",
      "    print func1.__doc__\n",
      "    print help(func1)"
     ],
     "language": "python",
     "prompt_number": 11
    }
   ]
  }
 ],
 "cells": [],
 "metadata": {
  "name": "",
  "signature": "sha256:bebdf41d32a1c96ec587e3e50a6448ee409773b847dfec85d405e87d69cfe6cc"
 },
 "nbformat": 3,
 "nbformat_minor": 0
}